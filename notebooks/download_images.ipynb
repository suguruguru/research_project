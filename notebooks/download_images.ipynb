{
 "metadata": {
  "language_info": {
   "codemirror_mode": {
    "name": "ipython",
    "version": 3
   },
   "file_extension": ".py",
   "mimetype": "text/x-python",
   "name": "python",
   "nbconvert_exporter": "python",
   "pygments_lexer": "ipython3",
   "version": "3.8.5-final"
  },
  "orig_nbformat": 2,
  "kernelspec": {
   "name": "python3",
   "display_name": "Python 3",
   "language": "python"
  }
 },
 "nbformat": 4,
 "nbformat_minor": 2,
 "cells": [
  {
   "cell_type": "code",
   "execution_count": 1,
   "metadata": {},
   "outputs": [
    {
     "output_type": "stream",
     "name": "stdout",
     "text": [
      "http://saigai.gsi.go.jp/h23taiheiyo-zort/block/jgw/kuji.lzh\nhttp://www.gsi.go.jp/\n170\nhttp://saigai.gsi.go.jp/h23taiheiyo-ok/ortho/kuji/Ortho_JPEG/20110830-10-IF673-a2.jpg\nhttp://saigai.gsi.go.jp/h23taiheiyo-ok/ortho/kuji/Ortho_JPEG/20110830-10-JG723-a2.jpg\n168\n"
     ]
    }
   ],
   "source": [
    "\n",
    "#jpgの一括ダウンロード\n",
    "#リンクの取得\n",
    "import os\n",
    "import requests\n",
    "from bs4 import BeautifulSoup\n",
    "import urllib.error\n",
    "import urllib.request\n",
    "\n",
    "load_url = \"https://saigai.gsi.go.jp/h23taiheiyo-zort/block/index_kuji.html\"\n",
    "html = requests.get(load_url)\n",
    "soup = BeautifulSoup(html.content, \"html.parser\")\n",
    "\n",
    "image_urls = [element.get('href') for element in soup.find_all(\"a\")]  \n",
    "\n",
    "print(image_urls[0])\n",
    "print(image_urls[-1])\n",
    "print(len(image_urls))\n",
    "\n",
    "for url in image_urls:\n",
    "  if not 'jpg' in url:\n",
    "    image_urls.remove(url)\n",
    "\n",
    "print(image_urls[0])\n",
    "print(image_urls[-1])\n",
    "print(len(image_urls))"
   ]
  },
  {
   "cell_type": "code",
   "execution_count": 2,
   "metadata": {},
   "outputs": [
    {
     "output_type": "stream",
     "name": "stdout",
     "text": [
      "20110830-10-IF673-a2.jpg\n20110830-10-JG723-a2.jpg\n168\n"
     ]
    }
   ],
   "source": [
    "\n",
    "#ダウンロードする関数\n",
    "def download_file(url, dst_path):\n",
    "    try:\n",
    "        with urllib.request.urlopen(url) as web_file:\n",
    "            data = web_file.read()\n",
    "            with open(dst_path, mode='wb') as local_file:\n",
    "                local_file.write(data)\n",
    "    except urllib.error.URLError as e:\n",
    "        print(e)\n",
    "\n",
    "#リンク名からファイル名を決定\n",
    "file_name_list = []\n",
    "for url in image_urls:\n",
    "  file_name_list.append(url[-24:])\n",
    "print(file_name_list[0])\n",
    "print(file_name_list[-1])\n",
    "print(len(file_name_list))"
   ]
  },
  {
   "cell_type": "code",
   "execution_count": 7,
   "metadata": {},
   "outputs": [
    {
     "output_type": "stream",
     "name": "stdout",
     "text": [
      "/home/suguru.jonokuchi.world/my_project/research_repo/data/images\n/home/suguru.jonokuchi.world/my_project/research_repo/data/images\n"
     ]
    }
   ],
   "source": [
    "print(os.getcwd())\n",
    "\n",
    "base_dir = \"/home/suguru.jonokuchi.world/my_project/research_repo\"\n",
    "images_data = os.path.join(base_dir, 'data', 'images')\n",
    "\n",
    "if not os.path.exists(images_data):\n",
    "   os. mkdir(images_data)\n",
    "\n",
    "os.chdir(images_data)\n",
    "\n",
    "print(os.getcwd())\n"
   ]
  },
  {
   "cell_type": "code",
   "execution_count": 8,
   "metadata": {},
   "outputs": [],
   "source": [
    "#ダウンロードの実行\n",
    "for url, name in zip(image_urls, file_name_list):\n",
    "  download_file(url, name)"
   ]
  },
  {
   "cell_type": "code",
   "execution_count": null,
   "metadata": {},
   "outputs": [],
   "source": []
  }
 ]
}